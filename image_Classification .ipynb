{
  "nbformat": 4,
  "nbformat_minor": 0,
  "metadata": {
    "colab": {
      "provenance": [],
      "gpuType": "T4"
    },
    "kernelspec": {
      "name": "python3",
      "display_name": "Python 3"
    },
    "language_info": {
      "name": "python"
    },
    "accelerator": "GPU"
  },
  "cells": [
    {
      "cell_type": "code",
      "execution_count": 1,
      "metadata": {
        "id": "mscBqu0xH8oI"
      },
      "outputs": [],
      "source": [
        "import torch\n",
        "from torch import nn # it means that importing an neural network librar\n",
        "from torch.utils.data import DataLoader #helps in creating the batches\n",
        "'''\n",
        "Gradient descent = All the datapoints - compute output - compute loss - gradient descent\n",
        "Stochastic Gradient Descent - Single datapoint - compute output - compute loss\n",
        "            - gradient descent - next data point\n",
        "Mini batch Gradient Descent - create bathes of data - compute output foe each batch -\n",
        "          - gradinet descent - next batch\n",
        "'''\n",
        "from torchvision import datasets #download the dataset\n",
        "from torchvision.transforms import ToTensor # is used to convert the input to torch tensor format\n",
        "import matplotlib.pyplot as plt\n",
        "import torch.nn.functional as F"
      ]
    },
    {
      "cell_type": "markdown",
      "source": [
        "## download the dataset"
      ],
      "metadata": {
        "id": "B5fGgpOuKZs8"
      }
    },
    {
      "cell_type": "code",
      "source": [
        "training_data = datasets.FashionMNIST(root = \"data\",train = True,download = True,transform = ToTensor())\n",
        "testing_data = datasets.FashionMNIST(root = \"data\",train = False,download = True,transform = ToTensor())"
      ],
      "metadata": {
        "id": "7JvWz3XmKXii",
        "colab": {
          "base_uri": "https://localhost:8080/"
        },
        "outputId": "8486daf9-47c1-4da4-f936-c005ac81a893"
      },
      "execution_count": 2,
      "outputs": [
        {
          "output_type": "stream",
          "name": "stdout",
          "text": [
            "Downloading http://fashion-mnist.s3-website.eu-central-1.amazonaws.com/train-images-idx3-ubyte.gz\n",
            "Downloading http://fashion-mnist.s3-website.eu-central-1.amazonaws.com/train-images-idx3-ubyte.gz to data/FashionMNIST/raw/train-images-idx3-ubyte.gz\n"
          ]
        },
        {
          "output_type": "stream",
          "name": "stderr",
          "text": [
            "100%|██████████| 26421880/26421880 [00:02<00:00, 10399578.93it/s]\n"
          ]
        },
        {
          "output_type": "stream",
          "name": "stdout",
          "text": [
            "Extracting data/FashionMNIST/raw/train-images-idx3-ubyte.gz to data/FashionMNIST/raw\n",
            "\n",
            "Downloading http://fashion-mnist.s3-website.eu-central-1.amazonaws.com/train-labels-idx1-ubyte.gz\n",
            "Downloading http://fashion-mnist.s3-website.eu-central-1.amazonaws.com/train-labels-idx1-ubyte.gz to data/FashionMNIST/raw/train-labels-idx1-ubyte.gz\n"
          ]
        },
        {
          "output_type": "stream",
          "name": "stderr",
          "text": [
            "100%|██████████| 29515/29515 [00:00<00:00, 175810.29it/s]\n"
          ]
        },
        {
          "output_type": "stream",
          "name": "stdout",
          "text": [
            "Extracting data/FashionMNIST/raw/train-labels-idx1-ubyte.gz to data/FashionMNIST/raw\n",
            "\n",
            "Downloading http://fashion-mnist.s3-website.eu-central-1.amazonaws.com/t10k-images-idx3-ubyte.gz\n",
            "Downloading http://fashion-mnist.s3-website.eu-central-1.amazonaws.com/t10k-images-idx3-ubyte.gz to data/FashionMNIST/raw/t10k-images-idx3-ubyte.gz\n"
          ]
        },
        {
          "output_type": "stream",
          "name": "stderr",
          "text": [
            "100%|██████████| 4422102/4422102 [00:01<00:00, 3169376.29it/s]\n"
          ]
        },
        {
          "output_type": "stream",
          "name": "stdout",
          "text": [
            "Extracting data/FashionMNIST/raw/t10k-images-idx3-ubyte.gz to data/FashionMNIST/raw\n",
            "\n",
            "Downloading http://fashion-mnist.s3-website.eu-central-1.amazonaws.com/t10k-labels-idx1-ubyte.gz\n",
            "Downloading http://fashion-mnist.s3-website.eu-central-1.amazonaws.com/t10k-labels-idx1-ubyte.gz to data/FashionMNIST/raw/t10k-labels-idx1-ubyte.gz\n"
          ]
        },
        {
          "output_type": "stream",
          "name": "stderr",
          "text": [
            "100%|██████████| 5148/5148 [00:00<00:00, 8671597.19it/s]"
          ]
        },
        {
          "output_type": "stream",
          "name": "stdout",
          "text": [
            "Extracting data/FashionMNIST/raw/t10k-labels-idx1-ubyte.gz to data/FashionMNIST/raw\n",
            "\n"
          ]
        },
        {
          "output_type": "stream",
          "name": "stderr",
          "text": [
            "\n"
          ]
        }
      ]
    },
    {
      "cell_type": "code",
      "source": [
        "len(training_data)"
      ],
      "metadata": {
        "colab": {
          "base_uri": "https://localhost:8080/"
        },
        "id": "tINbWh4JMAwI",
        "outputId": "f71e9ecc-29fa-4548-8298-c11e480467f1"
      },
      "execution_count": 3,
      "outputs": [
        {
          "output_type": "execute_result",
          "data": {
            "text/plain": [
              "60000"
            ]
          },
          "metadata": {},
          "execution_count": 3
        }
      ]
    },
    {
      "cell_type": "code",
      "source": [
        "torch.randint(len(training_data),size=(1,)).item()"
      ],
      "metadata": {
        "colab": {
          "base_uri": "https://localhost:8080/"
        },
        "id": "NwbmJXPxL-xS",
        "outputId": "b7cfa99f-df13-4782-e3e9-507f20b51024"
      },
      "execution_count": 4,
      "outputs": [
        {
          "output_type": "execute_result",
          "data": {
            "text/plain": [
              "29545"
            ]
          },
          "metadata": {},
          "execution_count": 4
        }
      ]
    },
    {
      "cell_type": "code",
      "source": [
        "labels_map = {\n",
        "    0: \"T-Shirt\",\n",
        "    1: \"Trouser\",\n",
        "    2: \"Pullover\",\n",
        "    3: \"Dress\",\n",
        "    4: \"Coat\",\n",
        "    5: \"Sandal\",\n",
        "    6: \"Shirt\",\n",
        "    7: \"Sneaker\",\n",
        "    8: \"Bag\",\n",
        "    9: \"Ankle Boot\",\n",
        "}\n",
        "\n",
        "figure = plt.figure(figsize=(8,8))\n",
        "\n",
        "cols, rows = 3,3\n",
        "\n",
        "for i in range(1,rows*cols+1):\n",
        "  sample_idx = torch.randint(len(training_data),size=(1,)).item()\n",
        "  img, label = training_data[sample_idx]\n",
        "  figure.add_subplot(rows,cols,i)\n",
        "  plt.title(labels_map[label])\n",
        "  plt.imshow(img.squeeze())"
      ],
      "metadata": {
        "colab": {
          "base_uri": "https://localhost:8080/",
          "height": 699
        },
        "id": "6VZ5Nqb2Kse4",
        "outputId": "6843baaf-8d6d-4e5a-c4f9-9c38cf846b14"
      },
      "execution_count": 5,
      "outputs": [
        {
          "output_type": "display_data",
          "data": {
            "text/plain": [
              "<Figure size 800x800 with 9 Axes>"
            ],
            "image/png": "[encoded data removed]"
          },
          "metadata": {}
        }
      ]
    },
    {
      "cell_type": "markdown",
      "source": [
        "## Batching"
      ],
      "metadata": {
        "id": "DiQ0F0QnNoKl"
      }
    },
    {
      "cell_type": "code",
      "source": [
        "batch_size = 64\n",
        "\n",
        "train_dataloader = DataLoader(training_data,batch_size=batch_size)\n",
        "test_dataloader = DataLoader(testing_data,batch_size=batch_size)"
      ],
      "metadata": {
        "id": "UJ-gL2iOMseZ"
      },
      "execution_count": 6,
      "outputs": []
    },
    {
      "cell_type": "markdown",
      "source": [
        "## Model Creation"
      ],
      "metadata": {
        "id": "ekQECaKPOEer"
      }
    },
    {
      "cell_type": "code",
      "source": [
        "class NeuralNetwork(nn.Module): #\n",
        "\n",
        "  def __init__(self):\n",
        "    super(NeuralNetwork,self).__init__()\n",
        "\n",
        "    ## Init function is used to define the architecture blocks\n",
        "    self.flatten = nn.Flatten() # 28 x 28 x1 - 764 x 1 vectpor\n",
        "    self.layer1 = nn.Linear(28*28,512)\n",
        "    self.layer2 = nn.Linear(512,256)\n",
        "    self.layer3 = nn.Linear(256,10)\n",
        "\n",
        "  def forward(self,x):\n",
        "    x = self.flatten(x)\n",
        "    x = self.layer1(x)\n",
        "    x = F.relu(x) #F.sigmoid()\n",
        "    x = self.layer2(x)\n",
        "    x = F.sigmoid(x)\n",
        "    x = self.layer3(x)\n",
        "    return x"
      ],
      "metadata": {
        "id": "905__QAlN8ZB"
      },
      "execution_count": 7,
      "outputs": []
    },
    {
      "cell_type": "code",
      "source": [
        "if torch.cuda.is_available():\n",
        "  device = 'cuda'\n",
        "else:\n",
        "  device = 'cpu'"
      ],
      "metadata": {
        "id": "ojjqLWkkm7nJ"
      },
      "execution_count": 8,
      "outputs": []
    },
    {
      "cell_type": "code",
      "source": [
        "model = NeuralNetwork()\n",
        "model.to(device)\n",
        "model"
      ],
      "metadata": {
        "colab": {
          "base_uri": "https://localhost:8080/"
        },
        "id": "Z36b7wF-nPnK",
        "outputId": "d4d5c9fe-5df0-4611-a61e-2ec1432d7dc7"
      },
      "execution_count": 36,
      "outputs": [
        {
          "output_type": "execute_result",
          "data": {
            "text/plain": [
              "NeuralNetwork(\n",
              "  (flatten): Flatten(start_dim=1, end_dim=-1)\n",
              "  (layer1): Linear(in_features=784, out_features=512, bias=True)\n",
              "  (layer2): Linear(in_features=512, out_features=256, bias=True)\n",
              "  (layer3): Linear(in_features=256, out_features=10, bias=True)\n",
              ")"
            ]
          },
          "metadata": {},
          "execution_count": 36
        }
      ]
    },
    {
      "cell_type": "code",
      "source": [
        "## loss function and optimizer\n",
        "loss_fn = nn.CrossEntropyLoss()\n",
        "optimizer = torch.optim.SGD(model.parameters(),lr = 1e-2)"
      ],
      "metadata": {
        "id": "tT59vwfOnVnK"
      },
      "execution_count": 37,
      "outputs": []
    },
    {
      "cell_type": "code",
      "source": [
        "def training_loop(dataloader,model,loss_fn,optimizer):\n",
        "  model.train()\n",
        "\n",
        "  #pass every batch of data to the model\n",
        "  for batch, (X,y) in enumerate(dataloader):\n",
        "    X = X.to(device)\n",
        "    y = y.to(device)\n",
        "\n",
        "    pred = model(X)\n",
        "    loss = loss_fn(pred,y)\n",
        "    optimizer.zero_grad()\n",
        "    loss.backward()\n",
        "    optimizer.step()\n",
        "\n",
        "\n",
        "    if batch % 100 == 0:\n",
        "      print (f'loss : {loss.item()}')"
      ],
      "metadata": {
        "id": "VsAkQxMzny3L"
      },
      "execution_count": 38,
      "outputs": []
    },
    {
      "cell_type": "code",
      "source": [
        "## testing the model\n",
        "def testing_loop(dataloader,model,loss_fn):\n",
        "  model.eval()\n",
        "  test_loss = 0\n",
        "  correct = 0\n",
        "  for X,y in dataloader:\n",
        "    X = X.to(device)\n",
        "    y = y.to(device)\n",
        "\n",
        "    pred = model(X)\n",
        "    # print (pred.shape)\n",
        "    # print (pred)\n",
        "    # print (pred.argmax(1))\n",
        "    # print (y)\n",
        "    # print (pred.argmax(1) == y)\n",
        "    # print ((pred.argmax(1) == y).type(torch.float))\n",
        "    # print ((pred.argmax(1) == y).type(torch.float).sum()\n",
        "    correct += (pred.argmax(1) == y).type(torch.float).sum().item()\n",
        "    test_loss += loss_fn(pred,y).item()\n",
        "  test_loss = test_loss/len(dataloader)\n",
        "  print (len(dataloader.dataset))\n",
        "  accuracy = (correct/len(dataloader.dataset))*100\n",
        "  print (f'Accuracy : {accuracy} with test error {test_loss}')"
      ],
      "metadata": {
        "id": "fHM2rg5ksSmt"
      },
      "execution_count": 39,
      "outputs": []
    },
    {
      "cell_type": "code",
      "source": [
        "epochs = 5 #how many times you have to send data to the model\n",
        "\n",
        "for t in range(epochs):\n",
        "  training_loop(train_dataloader,model,loss_fn,optimizer)\n",
        "  testing_loop(test_dataloader,model,loss_fn)\n",
        "  print(f' ==================== EPOCH : {t} ============================')"
      ],
      "metadata": {
        "colab": {
          "base_uri": "https://localhost:8080/"
        },
        "id": "nYczCysOpgfO",
        "outputId": "653d859b-1808-4c58-e511-a6b293477c2d"
      },
      "execution_count": 40,
      "outputs": [
        {
          "output_type": "stream",
          "name": "stdout",
          "text": [
            "loss : 2.429187536239624\n",
            "loss : 2.29122257232666\n",
            "loss : 2.2718727588653564\n",
            "loss : 2.255263090133667\n",
            "loss : 2.1867990493774414\n",
            "loss : 2.164750337600708\n",
            "loss : 2.0828697681427\n",
            "loss : 1.9638186693191528\n",
            "loss : 1.84017014503479\n",
            "loss : 1.716002345085144\n",
            "10000\n",
            "Accuracy : 54.72 with test error 1.6791270113295051\n",
            " ==================== EPOCH : 0 ============================\n",
            "loss : 1.7191139459609985\n",
            "loss : 1.613051414489746\n",
            "loss : 1.4541351795196533\n",
            "loss : 1.4599449634552002\n",
            "loss : 1.2896888256072998\n",
            "loss : 1.3212265968322754\n",
            "loss : 1.2589086294174194\n",
            "loss : 1.181429386138916\n",
            "loss : 1.202329397201538\n",
            "loss : 1.1422268152236938\n",
            "10000\n",
            "Accuracy : 63.44 with test error 1.1105406838617506\n",
            " ==================== EPOCH : 1 ============================\n",
            "loss : 1.1773593425750732\n",
            "loss : 1.1327946186065674\n",
            "loss : 0.9746478199958801\n",
            "loss : 1.097007155418396\n",
            "loss : 0.9562776684761047\n",
            "loss : 1.0152134895324707\n",
            "loss : 1.0132367610931396\n",
            "loss : 0.932159423828125\n",
            "loss : 0.9622572064399719\n",
            "loss : 0.9401302933692932\n",
            "10000\n",
            "Accuracy : 69.82000000000001 with test error 0.9012846737910228\n",
            " ==================== EPOCH : 2 ============================\n",
            "loss : 0.9411267638206482\n",
            "loss : 0.9360778331756592\n",
            "loss : 0.7496694326400757\n",
            "loss : 0.9290719032287598\n",
            "loss : 0.8125272989273071\n",
            "loss : 0.8351844549179077\n",
            "loss : 0.8776102066040039\n",
            "loss : 0.8038551211357117\n",
            "loss : 0.8138404488563538\n",
            "loss : 0.8189762234687805\n",
            "10000\n",
            "Accuracy : 72.86 with test error 0.779490658052408\n",
            " ==================== EPOCH : 3 ============================\n",
            "loss : 0.7795558571815491\n",
            "loss : 0.8081160187721252\n",
            "loss : 0.6052378416061401\n",
            "loss : 0.8232483267784119\n",
            "loss : 0.7385407090187073\n",
            "loss : 0.7215449810028076\n",
            "loss : 0.7934853434562683\n",
            "loss : 0.736958384513855\n",
            "loss : 0.7361178994178772\n",
            "loss : 0.7427255511283875\n",
            "10000\n",
            "Accuracy : 74.14 with test error 0.7107753271509887\n",
            " ==================== EPOCH : 4 ============================\n"
          ]
        }
      ]
    },
    {
      "cell_type": "code",
      "source": [
        "##saving the model"
      ],
      "metadata": {
        "id": "dSDACprTp_XY"
      },
      "execution_count": null,
      "outputs": []
    }
  ]
}