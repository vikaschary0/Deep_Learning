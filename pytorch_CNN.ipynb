{
  "nbformat": 4,
  "nbformat_minor": 0,
  "metadata": {
    "colab": {
      "provenance": [],
      "gpuType": "T4"
    },
    "kernelspec": {
      "name": "python3",
      "display_name": "Python 3"
    },
    "language_info": {
      "name": "python"
    },
    "accelerator": "GPU"
  },
  "cells": [
    {
      "cell_type": "code",
      "execution_count": 13,
      "metadata": {
        "id": "SCgp4CjgZmSl"
      },
      "outputs": [],
      "source": [
        "import torch\n",
        "import torch.nn as nn #import neural network class\n",
        "from torch.utils.data import DataLoader #helps in creating batchs\n",
        "from torchvision import datasets #download data\n",
        "from torchvision.transforms import ToTensor\n",
        "import torch.nn.functional as F"
      ]
    },
    {
      "cell_type": "code",
      "source": [
        "## download data\n",
        "training_data = datasets.FashionMNIST(root=\"data\",train=True,download=True,transform=ToTensor())\n",
        "test_data = datasets.FashionMNIST(root=\"data\",train=False,download=True,transform=ToTensor())"
      ],
      "metadata": {
        "colab": {
          "base_uri": "https://localhost:8080/"
        },
        "id": "HFRN_NU5cR9s",
        "outputId": "faed0f9d-524e-4ac0-e424-7a499fe05562"
      },
      "execution_count": 2,
      "outputs": [
        {
          "output_type": "stream",
          "name": "stdout",
          "text": [
            "Downloading http://fashion-mnist.s3-website.eu-central-1.amazonaws.com/train-images-idx3-ubyte.gz\n",
            "Downloading http://fashion-mnist.s3-website.eu-central-1.amazonaws.com/train-images-idx3-ubyte.gz to data/FashionMNIST/raw/train-images-idx3-ubyte.gz\n"
          ]
        },
        {
          "output_type": "stream",
          "name": "stderr",
          "text": [
            "100%|██████████| 26421880/26421880 [00:02<00:00, 12332421.56it/s]\n"
          ]
        },
        {
          "output_type": "stream",
          "name": "stdout",
          "text": [
            "Extracting data/FashionMNIST/raw/train-images-idx3-ubyte.gz to data/FashionMNIST/raw\n",
            "\n",
            "Downloading http://fashion-mnist.s3-website.eu-central-1.amazonaws.com/train-labels-idx1-ubyte.gz\n",
            "Downloading http://fashion-mnist.s3-website.eu-central-1.amazonaws.com/train-labels-idx1-ubyte.gz to data/FashionMNIST/raw/train-labels-idx1-ubyte.gz\n"
          ]
        },
        {
          "output_type": "stream",
          "name": "stderr",
          "text": [
            "100%|██████████| 29515/29515 [00:00<00:00, 208962.26it/s]\n"
          ]
        },
        {
          "output_type": "stream",
          "name": "stdout",
          "text": [
            "Extracting data/FashionMNIST/raw/train-labels-idx1-ubyte.gz to data/FashionMNIST/raw\n",
            "\n",
            "Downloading http://fashion-mnist.s3-website.eu-central-1.amazonaws.com/t10k-images-idx3-ubyte.gz\n",
            "Downloading http://fashion-mnist.s3-website.eu-central-1.amazonaws.com/t10k-images-idx3-ubyte.gz to data/FashionMNIST/raw/t10k-images-idx3-ubyte.gz\n"
          ]
        },
        {
          "output_type": "stream",
          "name": "stderr",
          "text": [
            "100%|██████████| 4422102/4422102 [00:01<00:00, 3906213.69it/s]\n"
          ]
        },
        {
          "output_type": "stream",
          "name": "stdout",
          "text": [
            "Extracting data/FashionMNIST/raw/t10k-images-idx3-ubyte.gz to data/FashionMNIST/raw\n",
            "\n",
            "Downloading http://fashion-mnist.s3-website.eu-central-1.amazonaws.com/t10k-labels-idx1-ubyte.gz\n",
            "Downloading http://fashion-mnist.s3-website.eu-central-1.amazonaws.com/t10k-labels-idx1-ubyte.gz to data/FashionMNIST/raw/t10k-labels-idx1-ubyte.gz\n"
          ]
        },
        {
          "output_type": "stream",
          "name": "stderr",
          "text": [
            "100%|██████████| 5148/5148 [00:00<00:00, 5556427.43it/s]"
          ]
        },
        {
          "output_type": "stream",
          "name": "stdout",
          "text": [
            "Extracting data/FashionMNIST/raw/t10k-labels-idx1-ubyte.gz to data/FashionMNIST/raw\n",
            "\n"
          ]
        },
        {
          "output_type": "stream",
          "name": "stderr",
          "text": [
            "\n"
          ]
        }
      ]
    },
    {
      "cell_type": "code",
      "source": [
        "batch_size = 64\n",
        "\n",
        "train_dataloader = DataLoader(training_data,batch_size=batch_size) #inputdata and Outputdata\n",
        "test_dataloader = DataLoader(test_data,batch_size=batch_size)"
      ],
      "metadata": {
        "id": "gH-N1JyGcxw7"
      },
      "execution_count": 4,
      "outputs": []
    },
    {
      "cell_type": "code",
      "source": [
        "for X,y in train_dataloader:\n",
        "  print (X.shape)\n",
        "  print (y.shape)\n",
        "  break"
      ],
      "metadata": {
        "colab": {
          "base_uri": "https://localhost:8080/"
        },
        "id": "VY5GfST6dHzG",
        "outputId": "33efc45a-9eba-488c-fbec-ade5566df5b5"
      },
      "execution_count": 6,
      "outputs": [
        {
          "output_type": "stream",
          "name": "stdout",
          "text": [
            "torch.Size([64, 1, 28, 28])\n",
            "torch.Size([64])\n"
          ]
        }
      ]
    },
    {
      "cell_type": "code",
      "source": [
        "len(train_dataloader)"
      ],
      "metadata": {
        "colab": {
          "base_uri": "https://localhost:8080/"
        },
        "id": "o_lbeXNwdkr7",
        "outputId": "70008c5a-d3a0-43c3-ef29-bfef97174423"
      },
      "execution_count": 7,
      "outputs": [
        {
          "output_type": "execute_result",
          "data": {
            "text/plain": [
              "938"
            ]
          },
          "metadata": {},
          "execution_count": 7
        }
      ]
    },
    {
      "cell_type": "code",
      "source": [
        "len(test_dataloader)"
      ],
      "metadata": {
        "colab": {
          "base_uri": "https://localhost:8080/"
        },
        "id": "U14S1577ePRV",
        "outputId": "01a9765f-e490-4676-b9a6-2d8b279a0fac"
      },
      "execution_count": 8,
      "outputs": [
        {
          "output_type": "execute_result",
          "data": {
            "text/plain": [
              "157"
            ]
          },
          "metadata": {},
          "execution_count": 8
        }
      ]
    },
    {
      "cell_type": "code",
      "source": [
        "## device setup\n",
        "\n",
        "device = \"cuda\" if torch.cuda.is_available() else \"cpu\""
      ],
      "metadata": {
        "id": "x28JrN3weWzY"
      },
      "execution_count": 9,
      "outputs": []
    },
    {
      "cell_type": "code",
      "source": [
        "device"
      ],
      "metadata": {
        "colab": {
          "base_uri": "https://localhost:8080/",
          "height": 36
        },
        "id": "djLEqZVneusD",
        "outputId": "c6ddd96e-aeee-41d4-8bd4-e9a362c36a01"
      },
      "execution_count": 10,
      "outputs": [
        {
          "output_type": "execute_result",
          "data": {
            "text/plain": [
              "'cuda'"
            ],
            "application/vnd.google.colaboratory.intrinsic+json": {
              "type": "string"
            }
          },
          "metadata": {},
          "execution_count": 10
        }
      ]
    },
    {
      "cell_type": "code",
      "source": [
        "class NeuralNetwork(nn.Module):\n",
        "  def __init__(self):\n",
        "    super(NeuralNetwork,self).__init__() ##it copies the initializations from the nn.Module class\n",
        "    self.flatten = nn.Flatten() #28x28x1 is converted to 764x1\n",
        "    self.linear1 = nn.Linear(28*28,512)\n",
        "    self.linear2 = nn.Linear(512,512)\n",
        "    self.output = nn.Linear(512,10) #10 class classification problem\n",
        "\n",
        "  def forward(self,x):\n",
        "    x = self.flatten(x)\n",
        "    x = self.linear1(x)\n",
        "    x = F.relu(x)\n",
        "    x = self.linear2(x)\n",
        "    x = F.relu(x)\n",
        "    out = self.output(x) #We didn't use softmax here\n",
        "    return out"
      ],
      "metadata": {
        "id": "dYAyURpRezdY"
      },
      "execution_count": 17,
      "outputs": []
    },
    {
      "cell_type": "code",
      "source": [
        "model = NeuralNetwork().to(device)\n",
        "print (model)"
      ],
      "metadata": {
        "colab": {
          "base_uri": "https://localhost:8080/"
        },
        "id": "RpbMYNNmg45R",
        "outputId": "32ece470-d1ad-48ec-cbd0-cadc78490455"
      },
      "execution_count": 18,
      "outputs": [
        {
          "output_type": "stream",
          "name": "stdout",
          "text": [
            "NeuralNetwork(\n",
            "  (flatten): Flatten(start_dim=1, end_dim=-1)\n",
            "  (linear1): Linear(in_features=784, out_features=512, bias=True)\n",
            "  (linear2): Linear(in_features=512, out_features=512, bias=True)\n",
            "  (output): Linear(in_features=512, out_features=10, bias=True)\n",
            ")\n"
          ]
        }
      ]
    },
    {
      "cell_type": "code",
      "source": [
        "loss_fn = nn.CrossEntropyLoss()\n",
        "optimizer = torch.optim.SGD(model.parameters(),lr=0.0001)"
      ],
      "metadata": {
        "id": "5NFKEPZjhKNe"
      },
      "execution_count": 19,
      "outputs": []
    },
    {
      "cell_type": "code",
      "source": [
        "## define the training loop\n",
        "\n",
        "def train(dataloader,model,loss_fn,optimizer):\n",
        "  model.train()\n",
        "  for batch,(X,y) in enumerate(dataloader):\n",
        "    X = X.to(device)\n",
        "    y = y.to(device)\n",
        "\n",
        "    pred = model(X)\n",
        "    loss = loss_fn(pred,y)\n",
        "\n",
        "    ##backpropogation\n",
        "    loss.backward()\n",
        "    optimizer.step()\n",
        "    optimizer.zero_grad()\n",
        "\n",
        "    if batch % 100 == 0:\n",
        "      print (f'Loss : {loss.item()}')"
      ],
      "metadata": {
        "id": "aN9Z-8ZEiV3B"
      },
      "execution_count": 23,
      "outputs": []
    },
    {
      "cell_type": "code",
      "source": [
        "epochs = 5\n",
        "\n",
        "for t in range(epochs):\n",
        "  print ('Epoch---------------------------')\n",
        "  train(train_dataloader,model,loss_fn,optimizer)"
      ],
      "metadata": {
        "colab": {
          "base_uri": "https://localhost:8080/"
        },
        "id": "FsHZ-vdyjohJ",
        "outputId": "a638b6e9-59a4-4b9f-c7ee-869e85c1a303"
      },
      "execution_count": 24,
      "outputs": [
        {
          "output_type": "stream",
          "name": "stdout",
          "text": [
            "Epoch---------------------------\n",
            "Loss : 2.2761874198913574\n",
            "Loss : 2.276379108428955\n",
            "Loss : 2.26177716255188\n",
            "Loss : 2.2697107791900635\n",
            "Loss : 2.2635293006896973\n",
            "Loss : 2.2555432319641113\n",
            "Loss : 2.26572847366333\n",
            "Loss : 2.2492239475250244\n",
            "Loss : 2.2588818073272705\n",
            "Loss : 2.252143383026123\n",
            "Epoch---------------------------\n",
            "Loss : 2.2624928951263428\n",
            "Loss : 2.263683557510376\n",
            "Loss : 2.2459254264831543\n",
            "Loss : 2.2572076320648193\n",
            "Loss : 2.2503719329833984\n",
            "Loss : 2.2390666007995605\n",
            "Loss : 2.2528159618377686\n",
            "Loss : 2.233665704727173\n",
            "Loss : 2.2453207969665527\n",
            "Loss : 2.2378625869750977\n",
            "Epoch---------------------------\n",
            "Loss : 2.248300552368164\n",
            "Loss : 2.250559091567993\n",
            "Loss : 2.2296900749206543\n",
            "Loss : 2.244152069091797\n",
            "Loss : 2.2365660667419434\n",
            "Loss : 2.221919298171997\n",
            "Loss : 2.239365339279175\n",
            "Loss : 2.217560052871704\n",
            "Loss : 2.2310447692871094\n",
            "Loss : 2.22286319732666\n",
            "Epoch---------------------------\n",
            "Loss : 2.2335691452026367\n",
            "Loss : 2.236809253692627\n",
            "Loss : 2.212857246398926\n",
            "Loss : 2.230506658554077\n",
            "Loss : 2.221879243850708\n",
            "Loss : 2.203956365585327\n",
            "Loss : 2.2252273559570312\n",
            "Loss : 2.200617551803589\n",
            "Loss : 2.2160558700561523\n",
            "Loss : 2.2069783210754395\n",
            "Epoch---------------------------\n",
            "Loss : 2.2181177139282227\n",
            "Loss : 2.2222635746002197\n",
            "Loss : 2.1951258182525635\n",
            "Loss : 2.2162251472473145\n",
            "Loss : 2.2061805725097656\n",
            "Loss : 2.185077667236328\n",
            "Loss : 2.210211992263794\n",
            "Loss : 2.182616949081421\n",
            "Loss : 2.2001733779907227\n",
            "Loss : 2.190098524093628\n"
          ]
        }
      ]
    },
    {
      "cell_type": "code",
      "source": [],
      "metadata": {
        "id": "AoQ4az6cj3Px"
      },
      "execution_count": null,
      "outputs": []
    }
  ]
}